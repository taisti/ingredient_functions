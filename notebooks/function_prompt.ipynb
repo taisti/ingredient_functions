{
 "cells": [
  {
   "cell_type": "markdown",
   "id": "baf59755",
   "metadata": {},
   "source": [
    "## Change directory to main"
   ]
  },
  {
   "cell_type": "code",
   "execution_count": 2,
   "id": "1dad1791",
   "metadata": {},
   "outputs": [
    {
     "name": "stdout",
     "output_type": "stream",
     "text": [
      "c:\\Users\\comp11\\MyProjects\\ingredients-functions\n"
     ]
    }
   ],
   "source": [
    "%cd ../"
   ]
  },
  {
   "cell_type": "markdown",
   "id": "a833b8af",
   "metadata": {},
   "source": [
    "## Gather function examples examples"
   ]
  },
  {
   "cell_type": "code",
   "execution_count": 3,
   "id": "2ca11c3d",
   "metadata": {},
   "outputs": [],
   "source": [
    "import pandas as pd\n",
    "from ingredient_functions.prompt.storage import DiskStorage\n",
    "from ingredient_functions.prompt import DescribingPrompt\n",
    "\n",
    "\n",
    "prompt = DescribingPrompt(classifier_word=\"purpose of ingredients\")\n",
    "storage = DiskStorage(\"data/function_exploration\")\n",
    "df_functions = storage.get(group=str(prompt))"
   ]
  },
  {
   "cell_type": "code",
   "execution_count": 4,
   "id": "3ad07dbc",
   "metadata": {},
   "outputs": [
    {
     "data": {
      "text/html": [
       "<div>\n",
       "<style scoped>\n",
       "    .dataframe tbody tr th:only-of-type {\n",
       "        vertical-align: middle;\n",
       "    }\n",
       "\n",
       "    .dataframe tbody tr th {\n",
       "        vertical-align: top;\n",
       "    }\n",
       "\n",
       "    .dataframe thead th {\n",
       "        text-align: right;\n",
       "    }\n",
       "</style>\n",
       "<table border=\"1\" class=\"dataframe\">\n",
       "  <thead>\n",
       "    <tr style=\"text-align: right;\">\n",
       "      <th></th>\n",
       "      <th>value</th>\n",
       "      <th>prompt_phrase</th>\n",
       "      <th>items_to_describe</th>\n",
       "      <th>classifier_word</th>\n",
       "      <th>amount_to_list</th>\n",
       "      <th>start_text</th>\n",
       "      <th>add_one_word</th>\n",
       "    </tr>\n",
       "  </thead>\n",
       "  <tbody>\n",
       "    <tr>\n",
       "      <th>0</th>\n",
       "      <td>main</td>\n",
       "      <td>3 Ingredient Slow Cooker Pork Chops</td>\n",
       "      <td>pork chops</td>\n",
       "      <td>purpose of ingredients</td>\n",
       "      <td>10</td>\n",
       "      <td>\\n1.</td>\n",
       "      <td>True</td>\n",
       "    </tr>\n",
       "    <tr>\n",
       "      <th>1</th>\n",
       "      <td>flavoring</td>\n",
       "      <td>3 Ingredient Slow Cooker Pork Chops</td>\n",
       "      <td>onion soup mix</td>\n",
       "      <td>purpose of ingredients</td>\n",
       "      <td>10</td>\n",
       "      <td>\\n1.</td>\n",
       "      <td>True</td>\n",
       "    </tr>\n",
       "    <tr>\n",
       "      <th>2</th>\n",
       "      <td>grease</td>\n",
       "      <td>3 Ingredient Slow Cooker Pork Chops</td>\n",
       "      <td>butter</td>\n",
       "      <td>purpose of ingredients</td>\n",
       "      <td>10</td>\n",
       "      <td>\\n1.</td>\n",
       "      <td>True</td>\n",
       "    </tr>\n",
       "    <tr>\n",
       "      <th>3</th>\n",
       "      <td>seasoning</td>\n",
       "      <td>3 Ingredient Slow Cooker Pork Chops</td>\n",
       "      <td>garlic powder</td>\n",
       "      <td>purpose of ingredients</td>\n",
       "      <td>10</td>\n",
       "      <td>\\n1.</td>\n",
       "      <td>True</td>\n",
       "    </tr>\n",
       "    <tr>\n",
       "      <th>4</th>\n",
       "      <td>spice</td>\n",
       "      <td>3 Ingredient Slow Cooker Pork Chops</td>\n",
       "      <td>paprika</td>\n",
       "      <td>purpose of ingredients</td>\n",
       "      <td>10</td>\n",
       "      <td>\\n1.</td>\n",
       "      <td>True</td>\n",
       "    </tr>\n",
       "    <tr>\n",
       "      <th>...</th>\n",
       "      <td>...</td>\n",
       "      <td>...</td>\n",
       "      <td>...</td>\n",
       "      <td>...</td>\n",
       "      <td>...</td>\n",
       "      <td>...</td>\n",
       "      <td>...</td>\n",
       "    </tr>\n",
       "    <tr>\n",
       "      <th>5</th>\n",
       "      <td>sweetening</td>\n",
       "      <td>yellow birds</td>\n",
       "      <td>sugar</td>\n",
       "      <td>purpose of ingredients</td>\n",
       "      <td>10</td>\n",
       "      <td>\\n1.</td>\n",
       "      <td>True</td>\n",
       "    </tr>\n",
       "    <tr>\n",
       "      <th>6</th>\n",
       "      <td>flavoring</td>\n",
       "      <td>yellow birds</td>\n",
       "      <td>vanilla extract</td>\n",
       "      <td>purpose of ingredients</td>\n",
       "      <td>10</td>\n",
       "      <td>\\n1.</td>\n",
       "      <td>True</td>\n",
       "    </tr>\n",
       "    <tr>\n",
       "      <th>7</th>\n",
       "      <td>flavoring</td>\n",
       "      <td>yellow birds</td>\n",
       "      <td>orange zest</td>\n",
       "      <td>purpose of ingredients</td>\n",
       "      <td>10</td>\n",
       "      <td>\\n1.</td>\n",
       "      <td>True</td>\n",
       "    </tr>\n",
       "    <tr>\n",
       "      <th>8</th>\n",
       "      <td>flavoring</td>\n",
       "      <td>yellow birds</td>\n",
       "      <td>cinnamon</td>\n",
       "      <td>purpose of ingredients</td>\n",
       "      <td>10</td>\n",
       "      <td>\\n1.</td>\n",
       "      <td>True</td>\n",
       "    </tr>\n",
       "    <tr>\n",
       "      <th>9</th>\n",
       "      <td>moistening</td>\n",
       "      <td>yellow birds</td>\n",
       "      <td>milk</td>\n",
       "      <td>purpose of ingredients</td>\n",
       "      <td>10</td>\n",
       "      <td>\\n1.</td>\n",
       "      <td>True</td>\n",
       "    </tr>\n",
       "  </tbody>\n",
       "</table>\n",
       "<p>990 rows × 7 columns</p>\n",
       "</div>"
      ],
      "text/plain": [
       "         value                        prompt_phrase items_to_describe  \\\n",
       "0         main  3 Ingredient Slow Cooker Pork Chops        pork chops   \n",
       "1    flavoring  3 Ingredient Slow Cooker Pork Chops    onion soup mix   \n",
       "2       grease  3 Ingredient Slow Cooker Pork Chops            butter   \n",
       "3    seasoning  3 Ingredient Slow Cooker Pork Chops     garlic powder   \n",
       "4        spice  3 Ingredient Slow Cooker Pork Chops           paprika   \n",
       "..         ...                                  ...               ...   \n",
       "5   sweetening                         yellow birds             sugar   \n",
       "6    flavoring                         yellow birds   vanilla extract   \n",
       "7    flavoring                         yellow birds       orange zest   \n",
       "8    flavoring                         yellow birds          cinnamon   \n",
       "9   moistening                         yellow birds              milk   \n",
       "\n",
       "           classifier_word amount_to_list start_text  add_one_word  \n",
       "0   purpose of ingredients             10       \\n1.          True  \n",
       "1   purpose of ingredients             10       \\n1.          True  \n",
       "2   purpose of ingredients             10       \\n1.          True  \n",
       "3   purpose of ingredients             10       \\n1.          True  \n",
       "4   purpose of ingredients             10       \\n1.          True  \n",
       "..                     ...            ...        ...           ...  \n",
       "5   purpose of ingredients             10       \\n1.          True  \n",
       "6   purpose of ingredients             10       \\n1.          True  \n",
       "7   purpose of ingredients             10       \\n1.          True  \n",
       "8   purpose of ingredients             10       \\n1.          True  \n",
       "9   purpose of ingredients             10       \\n1.          True  \n",
       "\n",
       "[990 rows x 7 columns]"
      ]
     },
     "execution_count": 4,
     "metadata": {},
     "output_type": "execute_result"
    }
   ],
   "source": [
    "df_functions"
   ]
  },
  {
   "cell_type": "code",
   "execution_count": 8,
   "id": "49f2739e",
   "metadata": {},
   "outputs": [],
   "source": [
    "df = df_functions.drop([\"amount_to_list\", \"start_text\", \"add_one_word\", \"classifier_word\"], axis=1)\n",
    "df.to_excel(\"data/function_exploration.xlsx\")"
   ]
  }
 ],
 "metadata": {
  "kernelspec": {
   "display_name": "ingredient-functions",
   "language": "python",
   "name": "python3"
  },
  "language_info": {
   "codemirror_mode": {
    "name": "ipython",
    "version": 3
   },
   "file_extension": ".py",
   "mimetype": "text/x-python",
   "name": "python",
   "nbconvert_exporter": "python",
   "pygments_lexer": "ipython3",
   "version": "3.10.6"
  },
  "vscode": {
   "interpreter": {
    "hash": "7660077d3aee5e1bde5729b7a912c98d64426ff903783310f2029c5643744233"
   }
  }
 },
 "nbformat": 4,
 "nbformat_minor": 5
}
